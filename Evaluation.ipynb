{
  "nbformat": 4,
  "nbformat_minor": 0,
  "metadata": {
    "colab": {
      "name": "Evaluation.ipynb",
      "provenance": [],
      "collapsed_sections": []
    },
    "kernelspec": {
      "name": "python3",
      "display_name": "Python 3"
    },
    "language_info": {
      "name": "python"
    }
  },
  "cells": [
    {
      "cell_type": "markdown",
      "source": [
        "COSINE SIMILARITY"
      ],
      "metadata": {
        "id": "w4umlmnViiBV"
      }
    },
    {
      "cell_type": "code",
      "source": [
        "!wget https://conceptnet.s3.amazonaws.com/downloads/2017/numberbatch/numberbatch-en-17.06.txt.gz "
      ],
      "metadata": {
        "colab": {
          "base_uri": "https://localhost:8080/"
        },
        "id": "sdYOpXPyiqfw",
        "outputId": "8d3a7fc2-652b-48b8-9302-305b9ac10c34"
      },
      "execution_count": null,
      "outputs": [
        {
          "output_type": "stream",
          "name": "stdout",
          "text": [
            "--2022-04-27 20:14:12--  https://conceptnet.s3.amazonaws.com/downloads/2017/numberbatch/numberbatch-en-17.06.txt.gz\n",
            "Resolving conceptnet.s3.amazonaws.com (conceptnet.s3.amazonaws.com)... 52.217.136.17\n",
            "Connecting to conceptnet.s3.amazonaws.com (conceptnet.s3.amazonaws.com)|52.217.136.17|:443... connected.\n",
            "HTTP request sent, awaiting response... 200 OK\n",
            "Length: 269500348 (257M) [text/plain]\n",
            "Saving to: ‘numberbatch-en-17.06.txt.gz’\n",
            "\n",
            "numberbatch-en-17.0 100%[===================>] 257.01M  55.5MB/s    in 4.8s    \n",
            "\n",
            "2022-04-27 20:14:17 (53.0 MB/s) - ‘numberbatch-en-17.06.txt.gz’ saved [269500348/269500348]\n",
            "\n"
          ]
        }
      ]
    },
    {
      "cell_type": "code",
      "source": [
        "!gunzip numberbatch-en-17.06.txt.gz "
      ],
      "metadata": {
        "id": "aWegYl2Vivki"
      },
      "execution_count": null,
      "outputs": []
    },
    {
      "cell_type": "code",
      "source": [
        "import math\n",
        "import numpy as np\n",
        "\n",
        "std_embeddings_index = {}\n",
        "with open('numberbatch-en-17.06.txt') as f:\n",
        "    for line in f:\n",
        "        values = line.split(' ')\n",
        "        word = values[0]\n",
        "        embedding = np.asarray(values[1:], dtype='float32')\n",
        "        std_embeddings_index[word] = embedding\n",
        "\n",
        "def cosineValue(v1,v2):\n",
        "    \"compute cosine similarity of v1 to v2: (v1 dot v2)/{||v1||*||v2||)\"\n",
        "    sumxx, sumxy, sumyy = 0, 0, 0\n",
        "    for i in range(len(v1)):\n",
        "        x = v1[i]; y = v2[i]\n",
        "        sumxx += x*x\n",
        "        sumyy += y*y\n",
        "        sumxy += x*y\n",
        "    return sumxy/math.sqrt(sumxx*sumyy)\n",
        "\n",
        "\n",
        "def get_sentence_vector(sentence, std_embeddings_index = std_embeddings_index ):\n",
        "    sent_vector = 0\n",
        "    for word in sentence.lower().split():\n",
        "        if word not in std_embeddings_index :\n",
        "            word_vector = np.array(np.random.uniform(-1.0, 1.0, 300))\n",
        "            std_embeddings_index[word] = word_vector\n",
        "        else:\n",
        "            word_vector = std_embeddings_index[word]\n",
        "        sent_vector = sent_vector + word_vector\n",
        "\n",
        "    return sent_vector\n",
        "\n",
        "def cosine_sim(sent1, sent2):\n",
        "    return cosineValue(get_sentence_vector(sent1), get_sentence_vector(sent2))\n"
      ],
      "metadata": {
        "id": "kVCnpR2GihUj"
      },
      "execution_count": null,
      "outputs": []
    },
    {
      "cell_type": "code",
      "source": [
        "s1 =\"a silver pole has a white and blue sign hanging from it. there is a pot with pink flowers hanging from the top of the pole. there is a red and yellow flag coming off the top of the pole. \"\n",
        "s2 =\"a sky is a light blue sign with lights suspended in the background. the pole on the bottom light are hanging from the same [UNK] in the [UNK] the light background, a black clock says [UNK] the many pole. the pole on the right the top sign at the same \"\n",
        "s3 = \"two square plates of food sits on a gray wooden picnic table outside on a sunny day. on the plate there is a meat (UNK] a [UNK] dish with yellow sauce and tomatoes, a [UNK] [UNK] a wheat salad with pickles on top, a [UNK] and [UNK] [UNK] and\"\n",
        "s4 = \"the table is white. there are two pieces of white bread is visible. there is a stainless steel table there is also a bowl of a square shaped [UNK] the [UNK] are also in the background behind the food. there is also a glass of a being tan and there\"\n",
        "print(cosine_sim(s1, s2)) \n",
        "print(cosine_sim(s3, s4)) \n"
      ],
      "metadata": {
        "id": "wB6yXi3xjM3h",
        "outputId": "72c9ed35-0f25-4491-8f91-900d997c97b8",
        "colab": {
          "base_uri": "https://localhost:8080/"
        }
      },
      "execution_count": null,
      "outputs": [
        {
          "output_type": "stream",
          "name": "stdout",
          "text": [
            "0.5473878621422282\n",
            "0.6907365958929257\n"
          ]
        }
      ]
    },
    {
      "cell_type": "code",
      "source": [
        ""
      ],
      "metadata": {
        "id": "OI4Yhm1bj16S"
      },
      "execution_count": null,
      "outputs": []
    }
  ]
}